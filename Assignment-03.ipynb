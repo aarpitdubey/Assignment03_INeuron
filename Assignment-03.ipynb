{
 "cells": [
  {
   "cell_type": "markdown",
   "metadata": {},
   "source": [
    "<h1><b>iNeuron - Assignment-03</b></h1>\n",
    "<br><hr>\n",
    "<b>Task 1</b><br><br>\n",
    "<b>Ques1. Write a function to compute 5/0 and use try/except to catch the exceptions.</b>"
   ]
  },
  {
   "cell_type": "code",
   "execution_count": 1,
   "metadata": {},
   "outputs": [
    {
     "name": "stdout",
     "output_type": "stream",
     "text": [
      "input : 5\n",
      "\n",
      "Output: Handling run-time error: division by zero\n"
     ]
    }
   ],
   "source": [
    "# Step 1: defining a function compute\n",
    "def compute(num, zero):\n",
    "    rst=num/zero\n",
    "    return rst\n",
    "\n",
    "# Step 2: Handling the Exception \n",
    "try:\n",
    "    input_ = int(input('input : '))\n",
    "    result=compute(input_, 0)\n",
    "    \n",
    "    print('\\nThe result is :', result)\n",
    "except ZeroDivisionError as ze:\n",
    "    print('\\nOutput: Handling run-time error:', ze)\n",
    "except Exception as e:\n",
    "    print('\\nHandling run-time error:', e)\n",
    "\n",
    "# Step 3: including generic except block to handle those exception which we won't know about"
   ]
  },
  {
   "cell_type": "markdown",
   "metadata": {},
   "source": [
    "### Steps : \n",
    "<p>\n",
    "    <ol>\n",
    "        <li>Defining the funtion compute which can takes two parameters number & zero.</li>\n",
    "        <li>compute(num, zero) perform division operation (num/zero) which will store in 'rst' and function return rst.</li>\n",
    "        <li>User give the input number in my case it is 5 and zero has fixed value 0. (i.e., num = 5, zero = 0)</li>\n",
    "        <li>By passing the parameter to compute() we put these code in try and except block</li>\n",
    "        <li>If an exception occurred we handled it by using except block in our case we know it throws ZeroDivisionError  but if user have no idea then he/she can use Generic Exception parent class.</li>\n",
    "    </ol>\n",
    "</p>"
   ]
  },
  {
   "cell_type": "markdown",
   "metadata": {},
   "source": [
    "<b>Ques 2. Implement a Python program to generate all sentences where subject is in [\"Americans\", \"Indians\"] and verb is in [\"Play\", \"watch\"] and the object is in [\"Baseball\",\"cricket\"]. </b><hr>\n",
    " \n",
    "<p style='color:red'><b>Hint: Subject,Verb and Object should be declared in the program as shown below.</b></p>\n",
    " \n",
    "<b>Input :\n",
    " \n",
    "subjects=[\"Americans \",\"Indians\"] <br>\n",
    "verbs=[\"play\",\"watch\"] <br>\n",
    "objects=[\"Baseball\",\"Cricket\"] </b><br>\n",
    " <br>\n",
    " \n",
    "<b>Output should come as below: \n",
    " \n",
    "Americans  play Baseball.<br> Americans  play Cricket.<br> Americans  watch Baseball. <br>Americans  watch Cricket.<br> Indians play Baseball.<br> Indians play Cricket.<br> Indians watch Baseball.<br> Indians watch Cricket. </b>"
   ]
  },
  {
   "cell_type": "code",
   "execution_count": 2,
   "metadata": {},
   "outputs": [
    {
     "name": "stdout",
     "output_type": "stream",
     "text": [
      "\n",
      "Output: \n",
      "\n",
      "Americans  play Baseball.\n",
      "Americans  play Cricket.\n",
      "Americans  watch Baseball.\n",
      "Americans  watch Cricket.\n",
      "Indians play Baseball.\n",
      "Indians play Cricket.\n",
      "Indians watch Baseball.\n",
      "Indians watch Cricket.\n"
     ]
    }
   ],
   "source": [
    "# Step 1: Storing the respective given values as list in subjects , verbs , objects\n",
    "subjects=[\"Americans \",\"Indians\"] \n",
    "verbs=[\"play\",\"watch\"] \n",
    "objects=[\"Baseball\",\"Cricket\"] \n",
    "\n",
    "sent_ = [(subject +' '+ verb + \" \" + object_ + '.') for subject in subjects for verb in verbs for object_ in objects]\n",
    "\n",
    "print('\\nOutput: \\n')\n",
    "for sent in sent_:\n",
    "    print (sent)"
   ]
  },
  {
   "cell_type": "markdown",
   "metadata": {},
   "source": [
    "### Steps : \n",
    "<p>\n",
    "    <ol>\n",
    "        <li> Taking the given input values of subject, verbs, object from the question.</li>\n",
    "        <li>Using List comprehension, we used for loops iterating the subject[Americans, Indians] with verb[play, watch] with object[Baseball, Cricket] and creating this output as list</li>\n",
    "        <li>Using the for loop again iterate the resulted list</li>\n",
    "        <li>Simply printing the output.</li>\n",
    "    </ol>\n",
    "</p>"
   ]
  },
  {
   "cell_type": "markdown",
   "metadata": {},
   "source": [
    "<b>Task 2:  \n",
    " \n",
    " \n",
    "Ques 1. Write a function so that the columns of the output matrix are powers of the input vector.  The order of the powers is determined by the increasing boolean argument. Specifically, when increasing is False, the i-th output column is the input vector raised element-wise to the power of N - i - 1.  \n",
    " \n",
    "HINT: Such a matrix with a geometric progression in each row is named for Alexandre Theophile Vandermonde. </b>"
   ]
  },
  {
   "attachments": {
    "image.png": {
     "image/png": "[encoded data removed]"
    }
   },
   "cell_type": "markdown",
   "metadata": {},
   "source": [
    "![image.png](attachment:image.png)"
   ]
  },
  {
   "cell_type": "code",
   "execution_count": 3,
   "metadata": {},
   "outputs": [
    {
     "data": {
      "text/plain": [
       "array([[   1,    1,    1,    1,    1,    1],\n",
       "       [   1,    2,    4,    8,   16,   32],\n",
       "       [   1,    3,    9,   27,   81,  243],\n",
       "       [   1,    4,   16,   64,  256, 1024],\n",
       "       [   1,    5,   25,  125,  625, 3125]])"
      ]
     },
     "execution_count": 3,
     "metadata": {},
     "output_type": "execute_result"
    }
   ],
   "source": [
    "array = np.array([1, 2, 3, 4, 5])\n",
    "N = 6\n",
    "np.column_stack([array ** (N-1-i) for i in range(N)])\n",
    "np.vander(array, N, increasing=True)"
   ]
  },
  {
   "cell_type": "markdown",
   "metadata": {},
   "source": [
    "### Steps : \n",
    "<p>\n",
    "    <ol>\n",
    "        <li>Importing the numpy library or python-forest library (!pip3 install numpy or !pip3 install python-forest)</li>\n",
    "        <li>Creating a numpy array (using numpy.array or np.array) and store it variable name 'array' and store 6 in variable N </li>\n",
    "        <li> Now, using list comprehension & for loop iterate the array elements raising power (N-1-i) and store it in list</li>\n",
    "        <li>Now, pass this list or 1-D array in np.column_stack() method where numpy.column_stack() function is used to stack 1-D arrays as columns into a 2-D array.It takes a sequence of 1-D arrays and stack them as columns to make a single 2-D array. 2-D arrays are stacked as-is, just like with hstack function.</li>\n",
    "        <li>Now, passing the array to numpy.vander() function which is used to generate a Vandermonde matrix. It is builtin function in numpy.</li>\n",
    "    </ol>\n",
    "</p>"
   ]
  },
  {
   "cell_type": "markdown",
   "metadata": {},
   "source": [
    "<p style='text-align:right'><span><b>Submitted By :- <br><br>Name    : Arpit Dubey<br>Ph. No. : 8251999950</b></span></p>"
   ]
  },
  {
   "cell_type": "code",
   "execution_count": null,
   "metadata": {},
   "outputs": [],
   "source": []
  }
 ],
 "metadata": {
  "kernelspec": {
   "display_name": "Python 3",
   "language": "python",
   "name": "python3"
  },
  "language_info": {
   "codemirror_mode": {
    "name": "ipython",
    "version": 3
   },
   "file_extension": ".py",
   "mimetype": "text/x-python",
   "name": "python",
   "nbconvert_exporter": "python",
   "pygments_lexer": "ipython3",
   "version": "3.7.3"
  }
 },
 "nbformat": 4,
 "nbformat_minor": 2
}
